{
  "nbformat": 4,
  "nbformat_minor": 0,
  "metadata": {
    "colab": {
      "provenance": []
    },
    "kernelspec": {
      "name": "python3",
      "display_name": "Python 3"
    },
    "language_info": {
      "name": "python"
    }
  },
  "cells": [
    {
      "cell_type": "markdown",
      "source": [
        "# Python Program to find sum of array"
      ],
      "metadata": {
        "id": "0USu32vJn46P"
      }
    },
    {
      "cell_type": "code",
      "source": [
        "# a=[15,12,13,10]\n",
        "a=list(map(int,input().split()))\n",
        "sum=0\n",
        "for i in range(len(a)):\n",
        "  sum=sum+a[i]\n",
        "print(sum)\n"
      ],
      "metadata": {
        "colab": {
          "base_uri": "https://localhost:8080/"
        },
        "id": "XP9gulAHlkew",
        "outputId": "8e984675-7f5d-4248-c2fe-be0957152823"
      },
      "execution_count": null,
      "outputs": [
        {
          "output_type": "stream",
          "name": "stdout",
          "text": [
            "15 12 13 10\n",
            "50\n"
          ]
        }
      ]
    },
    {
      "cell_type": "markdown",
      "source": [
        "# Python Program to find largest element in an array"
      ],
      "metadata": {
        "id": "Q20Tl85TpoA4"
      }
    },
    {
      "cell_type": "code",
      "source": [
        "a=list(map(int,input().split()))\n",
        "max(a)"
      ],
      "metadata": {
        "colab": {
          "base_uri": "https://localhost:8080/"
        },
        "id": "i5Zvo1uMn74H",
        "outputId": "3cc34af5-7ff1-4549-8fa3-56225054b0d4"
      },
      "execution_count": null,
      "outputs": [
        {
          "name": "stdout",
          "output_type": "stream",
          "text": [
            "100 15 12 13 10\n"
          ]
        },
        {
          "output_type": "execute_result",
          "data": {
            "text/plain": [
              "100"
            ]
          },
          "metadata": {},
          "execution_count": 12
        }
      ]
    },
    {
      "cell_type": "code",
      "source": [
        "a=list(map(int,input().split()))\n",
        "max=a[0]\n",
        "for i in range(1,len(a)):\n",
        "  if a[i]>max:\n",
        "    max=a[i]\n",
        "    print(max)  "
      ],
      "metadata": {
        "colab": {
          "base_uri": "https://localhost:8080/"
        },
        "id": "Y0y3yU4_pqC3",
        "outputId": "8637c2f0-985e-4645-8f84-28aa3a40d6b5"
      },
      "execution_count": null,
      "outputs": [
        {
          "output_type": "stream",
          "name": "stdout",
          "text": [
            "100 15 12 13 10 200\n",
            "200\n"
          ]
        }
      ]
    },
    {
      "cell_type": "markdown",
      "source": [
        "Python Program for array rotation"
      ],
      "metadata": {
        "id": "abR90tqNs3Ty"
      }
    },
    {
      "cell_type": "code",
      "source": [
        "def arrrotation(arr,d,n):\n",
        "  arr1=arr[d:n]+arr[0:d]\n",
        "  return arr1\n",
        "\n",
        "arr=list(map(int,input().split()))\n",
        "arrrotation(arr,2,len(arr))\n",
        "\n",
        "# n=len(arr)"
      ],
      "metadata": {
        "colab": {
          "base_uri": "https://localhost:8080/"
        },
        "id": "kwmNRE2Ws0eD",
        "outputId": "02fd8114-3a4d-496d-f4a5-27a0d5ce45d4"
      },
      "execution_count": null,
      "outputs": [
        {
          "name": "stdout",
          "output_type": "stream",
          "text": [
            "1 2 3 4 5\n"
          ]
        },
        {
          "output_type": "execute_result",
          "data": {
            "text/plain": [
              "[3, 4, 5, 1, 2]"
            ]
          },
          "metadata": {},
          "execution_count": 23
        }
      ]
    },
    {
      "cell_type": "markdown",
      "source": [
        "Python Program to Split the array and add the first part to the end"
      ],
      "metadata": {
        "id": "SWUUlUwP83ao"
      }
    },
    {
      "cell_type": "code",
      "source": [
        "def splitArr(arr1, n, k):\n",
        "    for i in range(0, k):\n",
        "        x = arr1[0]\n",
        "        for j in range(0, n-1):\n",
        "            arr1[j] = arr1[j + 1]\n",
        "         \n",
        "        arr1[n-1] = x\n",
        "arr1=list(map(int,input().split()))\n",
        "n=len(arr1)\n",
        "arr1=splitArr(arr1,n,2)\n",
        "for i in range(0,n):\n",
        "  print(arr1[i],end=\" \")\n",
        "\n"
      ],
      "metadata": {
        "colab": {
          "base_uri": "https://localhost:8080/",
          "height": 235
        },
        "id": "sdRoMh3R8QoZ",
        "outputId": "c8d4990f-e07c-4b5a-8d72-c969460aa663"
      },
      "execution_count": null,
      "outputs": [
        {
          "name": "stdout",
          "output_type": "stream",
          "text": [
            "1 2 3 4 5\n"
          ]
        },
        {
          "output_type": "error",
          "ename": "TypeError",
          "evalue": "ignored",
          "traceback": [
            "\u001b[0;31m---------------------------------------------------------------------------\u001b[0m",
            "\u001b[0;31mTypeError\u001b[0m                                 Traceback (most recent call last)",
            "\u001b[0;32m<ipython-input-12-fd0d7d6baba7>\u001b[0m in \u001b[0;36m<module>\u001b[0;34m\u001b[0m\n\u001b[1;32m     10\u001b[0m \u001b[0marr1\u001b[0m\u001b[0;34m=\u001b[0m\u001b[0msplitArr\u001b[0m\u001b[0;34m(\u001b[0m\u001b[0marr1\u001b[0m\u001b[0;34m,\u001b[0m\u001b[0mn\u001b[0m\u001b[0;34m,\u001b[0m\u001b[0;36m2\u001b[0m\u001b[0;34m)\u001b[0m\u001b[0;34m\u001b[0m\u001b[0;34m\u001b[0m\u001b[0m\n\u001b[1;32m     11\u001b[0m \u001b[0;32mfor\u001b[0m \u001b[0mi\u001b[0m \u001b[0;32min\u001b[0m \u001b[0mrange\u001b[0m\u001b[0;34m(\u001b[0m\u001b[0;36m0\u001b[0m\u001b[0;34m,\u001b[0m\u001b[0mn\u001b[0m\u001b[0;34m)\u001b[0m\u001b[0;34m:\u001b[0m\u001b[0;34m\u001b[0m\u001b[0;34m\u001b[0m\u001b[0m\n\u001b[0;32m---> 12\u001b[0;31m   \u001b[0mprint\u001b[0m\u001b[0;34m(\u001b[0m\u001b[0marr1\u001b[0m\u001b[0;34m[\u001b[0m\u001b[0mi\u001b[0m\u001b[0;34m]\u001b[0m\u001b[0;34m,\u001b[0m\u001b[0mend\u001b[0m\u001b[0;34m=\u001b[0m\u001b[0;34m\" \"\u001b[0m\u001b[0;34m)\u001b[0m\u001b[0;34m\u001b[0m\u001b[0;34m\u001b[0m\u001b[0m\n\u001b[0m\u001b[1;32m     13\u001b[0m \u001b[0;34m\u001b[0m\u001b[0m\n",
            "\u001b[0;31mTypeError\u001b[0m: 'NoneType' object is not subscriptable"
          ]
        }
      ]
    },
    {
      "cell_type": "markdown",
      "source": [
        "# Python Program for Find remainder of array multiplication divided by n"
      ],
      "metadata": {
        "id": "Fx0GtQ3LWiP2"
      }
    },
    {
      "cell_type": "code",
      "source": [
        "# Input : arr[] = {100, 10, 5, 25, 35, 14}, n = 11\n",
        "# Output : 9\n",
        "# Explanation: 100 x 10 x 5 x 25 x 35 x 14 = 61250000 % 11 = 9\n",
        "a=list(map(int,input().split()))\n",
        "# [100, 10, 5, 25, 35, 14]\n",
        "mul=1\n",
        "for i in range(len(a)):\n",
        "  mul=mul*a[i]\n",
        "print(mul%11)"
      ],
      "metadata": {
        "colab": {
          "base_uri": "https://localhost:8080/"
        },
        "id": "s1Z217gEWkEB",
        "outputId": "f8f38f25-a145-4bcb-9834-94c423246367"
      },
      "execution_count": null,
      "outputs": [
        {
          "output_type": "stream",
          "name": "stdout",
          "text": [
            "100 10 5 25 35 14\n",
            "9\n"
          ]
        }
      ]
    },
    {
      "cell_type": "markdown",
      "source": [
        "Check if given Array is Monotonic"
      ],
      "metadata": {
        "id": "KJtAbsiFyJ7x"
      }
    },
    {
      "cell_type": "code",
      "source": [
        "\n",
        "\n",
        "def check(arr):\n",
        "  n=len(arr)\n",
        "  inc=True\n",
        "  dec=True\n",
        "  for i in range(0,n-1):\n",
        "     if arr[i]>=arr[i+1]:\n",
        "         inc=False\n",
        "  for j in range(0,n-1):\n",
        "     if arr[j]>=arr[j+1]:\n",
        "         dec=False\n",
        "  return inc or dec\n",
        "\n",
        "arr=[1,2,3,4,1]\n",
        "ans=check(arr)\n",
        "if ans==True:\n",
        "  print(\"True\")\n",
        "else:\n",
        "  print(\"False\")\n",
        "\n"
      ],
      "metadata": {
        "id": "lh6QwYenYbIn",
        "colab": {
          "base_uri": "https://localhost:8080/"
        },
        "outputId": "7b6ecfff-17ae-4958-9c1a-f46dc47d9520"
      },
      "execution_count": null,
      "outputs": [
        {
          "output_type": "stream",
          "name": "stdout",
          "text": [
            "False\n"
          ]
        }
      ]
    },
    {
      "cell_type": "markdown",
      "source": [
        "# Python program to interchange first and last elements in a list"
      ],
      "metadata": {
        "id": "uv9Zl2hKcdC9"
      }
    },
    {
      "cell_type": "code",
      "source": [
        "def interchange(list):\n",
        "  n=len(list)\n",
        "  temp=list[0]\n",
        "  list[0]=list[n-1]\n",
        "  list[n-1]=temp\n",
        "  return list\n",
        "list=[1,2,3,4,5,6,7]\n",
        "print(interchange(list))"
      ],
      "metadata": {
        "id": "q01hv0Qg5T3W"
      },
      "execution_count": null,
      "outputs": []
    },
    {
      "cell_type": "markdown",
      "source": [
        "# Python program to swap two elements in a list"
      ],
      "metadata": {
        "id": "vagozx__pdkf"
      }
    },
    {
      "cell_type": "code",
      "source": [
        "def swparr(arr,post1,post2):\n",
        "  arr[pos1],arr[pos2]=arr[pos2],arr[pos1]\n",
        "  return arr\n",
        "arr=[1,2,3,4,5,6]\n",
        "pos1=0\n",
        "pos2=3\n",
        "print(swparr(arr,pos1,pos2))"
      ],
      "metadata": {
        "colab": {
          "base_uri": "https://localhost:8080/"
        },
        "id": "csVmWiIZpK0N",
        "outputId": "de0fca3a-e268-48c8-aa13-27d52a89d5db"
      },
      "execution_count": null,
      "outputs": [
        {
          "output_type": "stream",
          "name": "stdout",
          "text": [
            "[4, 2, 3, 1, 5, 6]\n"
          ]
        }
      ]
    },
    {
      "cell_type": "markdown",
      "source": [
        "Python | Ways to find length of list"
      ],
      "metadata": {
        "id": "FWCeZxp-tx5n"
      }
    },
    {
      "cell_type": "code",
      "source": [
        "arr=[1,2,3,4,5,6,7,8,9]\n",
        "print(len(arr))\n",
        "\n",
        "counter=0\n",
        "for i in arr:\n",
        "  counter+=1\n",
        "\n",
        "print(\"len of the arr:\" + str(counter))\n"
      ],
      "metadata": {
        "colab": {
          "base_uri": "https://localhost:8080/"
        },
        "id": "4J-q4pbVt3VV",
        "outputId": "83caf81a-7fb8-4938-9efd-8ac1b1bece17"
      },
      "execution_count": null,
      "outputs": [
        {
          "output_type": "stream",
          "name": "stdout",
          "text": [
            "9\n",
            "len of the arr:9\n"
          ]
        }
      ]
    },
    {
      "cell_type": "markdown",
      "source": [
        "Check if element exists in list in Python"
      ],
      "metadata": {
        "id": "FrEdVUkWvO6p"
      }
    },
    {
      "cell_type": "code",
      "source": [
        "lst=[1,2,3,4,5,6,7,8,9]\n",
        "a=5\n",
        "if a in lst:\n",
        "  print(\"exist\")\n",
        "else:\n",
        "  print(\"not exist\")"
      ],
      "metadata": {
        "colab": {
          "base_uri": "https://localhost:8080/"
        },
        "id": "mkhCTgyOu0qu",
        "outputId": "bc71557d-a9c1-432d-ba35-3565a9788ef2"
      },
      "execution_count": null,
      "outputs": [
        {
          "output_type": "stream",
          "name": "stdout",
          "text": [
            "exist\n"
          ]
        }
      ]
    },
    {
      "cell_type": "markdown",
      "source": [
        "# to find sum of elements in list"
      ],
      "metadata": {
        "id": "Cdox5u-T5W4u"
      }
    },
    {
      "cell_type": "code",
      "source": [
        "list1 = [11, 5, 17, 18, 23]\n",
        "sum=0\n",
        "for i in range(len(list1)):\n",
        "  sum=sum+list1[i]\n",
        "print(sum)\n"
      ],
      "metadata": {
        "colab": {
          "base_uri": "https://localhost:8080/"
        },
        "id": "V4Brwbmm5YcC",
        "outputId": "f6f92201-869c-4684-b4e8-a2469023ace7"
      },
      "execution_count": null,
      "outputs": [
        {
          "output_type": "stream",
          "name": "stdout",
          "text": [
            "74\n"
          ]
        }
      ]
    },
    {
      "cell_type": "code",
      "source": [
        "list = [11, 5, 17, 18, 23]\n",
        "sublist=[x for x in list if x<max(list)]\n",
        "print (max(sublist))"
      ],
      "metadata": {
        "id": "QPBcF12-5tjO",
        "colab": {
          "base_uri": "https://localhost:8080/"
        },
        "outputId": "459e71ab-8245-40e9-fa9e-9234e0b6be91"
      },
      "execution_count": null,
      "outputs": [
        {
          "output_type": "stream",
          "name": "stdout",
          "text": [
            "18\n"
          ]
        }
      ]
    }
  ]
}